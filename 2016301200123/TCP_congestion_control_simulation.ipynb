{
 "cells": [
  {
   "cell_type": "code",
   "execution_count": 130,
   "metadata": {},
   "outputs": [],
   "source": [
    "from abc import ABC, abstractmethod\n",
    "from matplotlib import pyplot as plt\n",
    "import numpy as np\n",
    "import pandas as pd\n",
    "import seaborn as sns"
   ]
  },
  {
   "cell_type": "code",
   "execution_count": 184,
   "metadata": {},
   "outputs": [],
   "source": [
    "class BaseState(ABC):\n",
    "    '''状态基类'''\n",
    "    def __init__(self, cwnd, ssthresh, dupACKcount):\n",
    "        self.cwnd = cwnd\n",
    "        self.ssthresh = ssthresh\n",
    "        self.dupACKcount = dupACKcount\n",
    "        \n",
    "        self.actions = {\n",
    "            'dupACK': self.act_dup,\n",
    "            'newACK': self.act_new,\n",
    "            'timeout': self.act_timeout,\n",
    "        }\n",
    "        \n",
    "    def __call__(self, event):\n",
    "        return self.actions[event]()\n",
    "    \n",
    "    @abstractmethod\n",
    "    def act_dup(self):\n",
    "        pass\n",
    "    \n",
    "    @abstractmethod\n",
    "    def act_new(self):\n",
    "        pass\n",
    "    \n",
    "    @abstractmethod\n",
    "    def act_timeout(self):\n",
    "        pass\n",
    "    \n",
    "\n",
    "class SlowStartState(BaseState):\n",
    "    '''慢启动状态类'''\n",
    "    def act_dup(self):\n",
    "        self.dupACKcount += 1\n",
    "        \n",
    "        new_state = None\n",
    "        if self.dupACKcount == 3:\n",
    "            self.ssthresh = int(self.cwnd / 2)\n",
    "            self.cwnd = self.ssthresh + 3\n",
    "            new_state =  FastRecoveryState(self.cwnd, self.ssthresh, self.dupACKcount)\n",
    "        \n",
    "        return new_state, self.cwnd, self.ssthresh\n",
    "    \n",
    "    def act_new(self):\n",
    "        self.cwnd *= 2\n",
    "        self.dupACKcount = 0\n",
    "        \n",
    "        new_state = None\n",
    "        if self.cwnd >= self.ssthresh:\n",
    "            self.cwnd = self.ssthresh\n",
    "            new_state = CongestionAvoidState(self.cwnd, self.ssthresh, self.dupACKcount)\n",
    "            \n",
    "        return new_state, self.cwnd, self.ssthresh\n",
    "    \n",
    "    def act_timeout(self):\n",
    "        self.ssthresh = int(self.cwnd / 2)\n",
    "        self.cwnd = 1\n",
    "        self.dupACKcount = 0\n",
    "        \n",
    "        return None, self.cwnd, self.ssthresh\n",
    "        \n",
    "        \n",
    "class CongestionAvoidState(BaseState):\n",
    "    '''拥塞避免状态类'''\n",
    "    def act_dup(self):\n",
    "        self.dupACKcount += 1\n",
    "        \n",
    "        new_state = None\n",
    "        if self.dupACKcount == 3:\n",
    "            self.ssthresh = int(self.cwnd / 2)\n",
    "            self.cwnd = self.ssthresh + 3\n",
    "            new_state =  FastRecoveryState(self.cwnd, self.ssthresh, self.dupACKcount)\n",
    "        \n",
    "        return new_state, self.cwnd, self.ssthresh\n",
    "    \n",
    "    def act_new(self):\n",
    "        self.cwnd += 1\n",
    "        self.dupACKcount = 0\n",
    "                    \n",
    "        return None, self.cwnd, self.ssthresh\n",
    "    \n",
    "    def act_timeout(self):\n",
    "        self.ssthresh = int(self.cwnd / 2)\n",
    "        self.cwnd = 1\n",
    "        self.dupACKcount = 0\n",
    "        \n",
    "        new_state = SlowStartState(self.cwnd, self.ssthresh, self.dupACKcount)\n",
    "        \n",
    "        return new_state, self.cwnd, self.ssthresh\n",
    "    \n",
    "    \n",
    "class FastRecoveryState(BaseState):\n",
    "    '''快速恢复状态类'''\n",
    "    def act_dup(self):\n",
    "        self.cwnd += 1\n",
    "        \n",
    "        return None, self.cwnd, self.ssthresh\n",
    "    \n",
    "    def act_new(self):\n",
    "        self.cwnd = self.ssthresh\n",
    "        self.dupACKcount= 0\n",
    "        \n",
    "        new_state = CongestionAvoidState(self.cwnd, self.ssthresh, self.dupACKcount)\n",
    "                    \n",
    "        return new_state, self.cwnd, self.ssthresh\n",
    "    \n",
    "    def act_timeout(self):\n",
    "        self.ssthresh = int(self.cwnd / 2)\n",
    "        self.cwnd = 1\n",
    "        self.dupACKcount = 0\n",
    "        \n",
    "        new_state = SlowStartState(self.cwnd, self.ssthresh, self.dupACKcount)\n",
    "        \n",
    "        return new_state, self.cwnd, self.ssthresh\n"
   ]
  },
  {
   "cell_type": "code",
   "execution_count": 208,
   "metadata": {},
   "outputs": [],
   "source": [
    "class CongestionControlSimulator(object):\n",
    "    '''模拟器类'''\n",
    "    def __init__(self, cwnd=1, ssthresh=16, dupACKcount=0):\n",
    "        \n",
    "        self.state = SlowStartState(cwnd, ssthresh, dupACKcount)\n",
    "        \n",
    "        data = pd.DataFrame([[cwnd, ssthresh]], [0], columns=[\"cwnd\", \"ssthresh\"])\n",
    "        \n",
    "        self.history = data\n",
    "            \n",
    "    def run(self, events):\n",
    "        \n",
    "        cwnds = []\n",
    "        ssthreshs = []\n",
    "        \n",
    "        for index, event in enumerate(events):\n",
    "            state, cwnd, ssthresh = self.state(event)\n",
    "            \n",
    "            cwnds.append(cwnd)\n",
    "            ssthreshs.append(ssthresh)\n",
    "            \n",
    "            if state is not None:\n",
    "                self.state = state\n",
    "                \n",
    "        self.history = self.history.append(pd.DataFrame({'cwnd':cwnds, 'ssthresh':ssthreshs}), ignore_index=True)"
   ]
  },
  {
   "cell_type": "code",
   "execution_count": 213,
   "metadata": {},
   "outputs": [],
   "source": [
    "simulator = CongestionControlSimulator()\n",
    "\n",
    "events = ['newACK'] * 9 + ['dupACK'] * 3 + ['newACK'] * 8 + ['timeout'] + ['newACK'] * 5\n",
    "\n",
    "simulator.run(events)"
   ]
  },
  {
   "cell_type": "code",
   "execution_count": 214,
   "metadata": {},
   "outputs": [
    {
     "data": {
      "text/plain": [
       "Text(0.5, 0, 'Transmission Round')"
      ]
     },
     "execution_count": 214,
     "metadata": {},
     "output_type": "execute_result"
    },
    {
     "data": {
      "image/png": "[encoded data removed]",
      "text/plain": [
       "<Figure size 432x288 with 1 Axes>"
      ]
     },
     "metadata": {},
     "output_type": "display_data"
    }
   ],
   "source": [
    "sns.set(style=\"darkgrid\")\n",
    "\n",
    "sns.lineplot(data=simulator.history)\n",
    "plt.ylabel(\"Segment\")\n",
    "plt.xlabel(\"Transmission Round\")"
   ]
  },
  {
   "cell_type": "code",
   "execution_count": null,
   "metadata": {},
   "outputs": [],
   "source": []
  }
 ],
 "metadata": {
  "kernelspec": {
   "display_name": "Python 3.7.6 64-bit",
   "language": "python",
   "name": "python37664bit08b44b7d591b49dbb6f77ee9c333298c"
  },
  "language_info": {
   "codemirror_mode": {
    "name": "ipython",
    "version": 3
   },
   "file_extension": ".py",
   "mimetype": "text/x-python",
   "name": "python",
   "nbconvert_exporter": "python",
   "pygments_lexer": "ipython3",
   "version": "3.7.6"
  }
 },
 "nbformat": 4,
 "nbformat_minor": 2
}